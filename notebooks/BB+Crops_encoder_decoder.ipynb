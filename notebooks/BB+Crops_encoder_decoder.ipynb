{
 "cells": [
  {
   "cell_type": "code",
   "execution_count": null,
   "id": "12b1fb47",
   "metadata": {},
   "outputs": [],
   "source": [
    "import torch\n",
    "import torch.nn as nn\n",
    "\n",
    "from torch.utils.tensorboard import SummaryWriter"
   ]
  },
  {
   "cell_type": "code",
   "execution_count": 2,
   "id": "2bb9791b",
   "metadata": {},
   "outputs": [],
   "source": [
    "import sys\n",
    "sys.path.append('/home/raquelpanadero/Desktop/TFG/scripts')\n",
    "\n",
    "from utils import create_dataloaders\n",
    "from models.bb_crops_encoder_decoder import BBCropsEncoderDecoder\n",
    "from trainers.bb_crops_trainer import train_model"
   ]
  },
  {
   "cell_type": "code",
   "execution_count": 3,
   "id": "67498fcb",
   "metadata": {},
   "outputs": [],
   "source": [
    "# Load the TensorBoard notebook extension\n",
    "%load_ext tensorboard"
   ]
  },
  {
   "cell_type": "code",
   "execution_count": 4,
   "id": "d38b0805",
   "metadata": {},
   "outputs": [],
   "source": [
    "data = torch.load('/home/raquelpanadero/Desktop/TFG/waymo_dataset_images/dataset.pt')"
   ]
  },
  {
   "attachments": {},
   "cell_type": "markdown",
   "id": "643f588a",
   "metadata": {},
   "source": [
    "## Training"
   ]
  },
  {
   "cell_type": "code",
   "execution_count": null,
   "id": "1ccbcca3",
   "metadata": {
    "scrolled": false
   },
   "outputs": [],
   "source": [
    "list_batch_sizes = [16]\n",
    "list_lr = [0.01, 0.001, 0.0001, 1e-5, 1e-6]\n",
    "\n",
    "# define the net\n",
    "input_size = 8\n",
    "output_size = 4\n",
    "hidden_size = 512\n",
    "num_layers = 1\n",
    "drop_prob = 0.5\n",
    "target_len = 9\n",
    "n_epochs = 40\n",
    "device = 'cuda' if torch.cuda.is_available() else 'cpu'\n",
    "\n",
    "for batch_size in list_batch_sizes:\n",
    "    for lr in list_lr:\n",
    "        train_loader, valid_loader, test_loader = create_dataloaders(data, batch_size=batch_size)\n",
    "        writer = SummaryWriter(\n",
    "            log_dir='/home/raquelpanadero/Desktop/TFG/logs'\n",
    "                    f'/dinov2_lr_{lr}_bsize_{batch_size}'\n",
    "        )\n",
    "        net = BBCropsEncoderDecoder(\n",
    "            input_size=input_size,\n",
    "            output_size=output_size, \n",
    "            batch_size=batch_size, \n",
    "            target_len=target_len, \n",
    "            hidden_size=hidden_size,\n",
    "            num_layers=num_layers,\n",
    "            device=device,\n",
    "            feat_extractor = 'dino',\n",
    "            fine_tuning = False\n",
    "        )\n",
    "        criterion = nn.MSELoss()\n",
    "        optimizer = torch.optim.Adam(net.parameters(), lr=lr)\n",
    "\n",
    "        train_model(\n",
    "            net = net,\n",
    "            train_loader = train_loader,\n",
    "            valid_loader = valid_loader,\n",
    "            n_epochs = n_epochs, \n",
    "            optimizer = optimizer,\n",
    "            criterion = criterion,\n",
    "            device = device,\n",
    "            writer=writer\n",
    "        )"
   ]
  },
  {
   "cell_type": "code",
   "execution_count": null,
   "id": "d31e5074",
   "metadata": {},
   "outputs": [],
   "source": [
    "batch_size = 16\n",
    "lr = 0.001\n",
    "models = ['dino', 'vgg', 'resnet']\n",
    "finetuning = [True, False]\n",
    "normalization_layers = [True, False]\n",
    "\n",
    "# define the net\n",
    "input_size = 8\n",
    "output_size = 4\n",
    "hidden_size = 512\n",
    "num_layers = 1\n",
    "drop_prob = 0.5\n",
    "target_len = 9\n",
    "n_epochs = 40\n",
    "device = 'cuda' if torch.cuda.is_available() else 'cpu'\n",
    "\n",
    "for model in models:\n",
    "    for ft in finetuning:\n",
    "        for nlayer in normalization_layers:\n",
    "            train_loader, valid_loader, test_loader = create_dataloaders(data, batch_size=batch_size)\n",
    "            writer = SummaryWriter(\n",
    "                log_dir='/home/raquelpanadero/Desktop/TFG/logs'\n",
    "                        f'/{model}_finetuning={ft}_normlayer={nlayer}_e{n_epochs}_lr_{lr}_bsize_{batch_size}'\n",
    "            )\n",
    "            net = BBCropsEncoderDecoder(\n",
    "                input_size=input_size,\n",
    "                output_size=output_size, \n",
    "                batch_size=batch_size, \n",
    "                target_len=target_len, \n",
    "                hidden_size=hidden_size,\n",
    "                num_layers=num_layers,\n",
    "                device=device,\n",
    "                feat_extractor = model,\n",
    "                fine_tuning = ft,\n",
    "                normalization_layers = True\n",
    "            )\n",
    "            criterion = nn.MSELoss()\n",
    "            optimizer = torch.optim.Adam(net.parameters(), lr=lr)\n",
    "\n",
    "            train_model(\n",
    "                net = net,\n",
    "                train_loader = train_loader,\n",
    "                valid_loader = valid_loader,\n",
    "                n_epochs = n_epochs, \n",
    "                optimizer = optimizer,\n",
    "                criterion = criterion,\n",
    "                device = device,\n",
    "                writer=writer,\n",
    "                checkpoints_path = f'/home/raquelpanadero/Desktop/TFG/trained_models/{model}_finetuning={ft}_normlayer={nlayer}'\n",
    "            )"
   ]
  },
  {
   "attachments": {},
   "cell_type": "markdown",
   "id": "cf36ef8e",
   "metadata": {},
   "source": [
    "## Model evaluation"
   ]
  },
  {
   "cell_type": "code",
   "execution_count": null,
   "id": "f6d2c87d",
   "metadata": {},
   "outputs": [],
   "source": [
    "%tensorboard --logdir /home/raquelpanadero/Desktop/TFG/logs"
   ]
  }
 ],
 "metadata": {
  "kernelspec": {
   "display_name": "Python 3 (ipykernel)",
   "language": "python",
   "name": "python3"
  },
  "language_info": {
   "codemirror_mode": {
    "name": "ipython",
    "version": 3
   },
   "file_extension": ".py",
   "mimetype": "text/x-python",
   "name": "python",
   "nbconvert_exporter": "python",
   "pygments_lexer": "ipython3",
   "version": "3.9.16"
  }
 },
 "nbformat": 4,
 "nbformat_minor": 5
}
