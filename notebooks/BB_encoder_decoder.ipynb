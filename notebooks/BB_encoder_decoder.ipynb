{
 "cells": [
  {
   "cell_type": "code",
   "execution_count": null,
   "id": "12b1fb47",
   "metadata": {},
   "outputs": [],
   "source": [
    "import torch\n",
    "import torch.nn as nn\n",
    "\n",
    "from torch.utils.tensorboard import SummaryWriter"
   ]
  },
  {
   "cell_type": "code",
   "execution_count": 17,
   "id": "2bb9791b",
   "metadata": {},
   "outputs": [],
   "source": [
    "import sys\n",
    "sys.path.append('/home/raquelpanadero/Desktop/TFG/scripts')\n",
    "\n",
    "from utils import create_dataloaders\n",
    "from models.bb_encoder_decoder import BBEncoderDecoder\n",
    "from trainers.bb_trainer import train_model"
   ]
  },
  {
   "cell_type": "code",
   "execution_count": 3,
   "id": "67498fcb",
   "metadata": {},
   "outputs": [],
   "source": [
    "# Load the TensorBoard notebook extension\n",
    "%load_ext tensorboard"
   ]
  },
  {
   "cell_type": "code",
   "execution_count": 4,
   "id": "d38b0805",
   "metadata": {},
   "outputs": [],
   "source": [
    "data = torch.load('/home/raquelpanadero/Desktop/TFG/waymo_dataset_images/dataset.pt')"
   ]
  },
  {
   "attachments": {},
   "cell_type": "markdown",
   "id": "643f588a",
   "metadata": {},
   "source": [
    "## Training"
   ]
  },
  {
   "cell_type": "code",
   "execution_count": null,
   "id": "1ccbcca3",
   "metadata": {},
   "outputs": [],
   "source": [
    "list_batch_sizes = [16, 32, 64, 128, 256, 512]\n",
    "list_lr = [0.01, 0.001, 0.0001, 1e-5, 1e-6]\n",
    "\n",
    "# define the net\n",
    "input_size = 8\n",
    "output_size = 4\n",
    "hidden_size = 64\n",
    "num_layers = 2\n",
    "drop_prob = 0.5\n",
    "target_len = 9\n",
    "n_epochs = 25\n",
    "device = 'cuda' if torch.cuda.is_available() else 'cpu'\n",
    "\n",
    "for batch_size in list_batch_sizes:\n",
    "    for lr in list_lr:\n",
    "        train_loader, valid_loader, test_loader = create_dataloaders(data, batch_size=batch_size)\n",
    "        writer = SummaryWriter(\n",
    "            log_dir=('/home/raquelpanadero/Desktop/TFG/logs'\n",
    "                     f'/bb_ed_lr_{lr}_bsize_{batch_size}')\n",
    "        )\n",
    "        net = BBEncoderDecoder(\n",
    "            input_size=input_size,\n",
    "            output_size=output_size, \n",
    "            batch_size=batch_size, \n",
    "            target_len=target_len, \n",
    "            hidden_size=hidden_size,\n",
    "            num_layers=num_layers,\n",
    "            device=device\n",
    "        )\n",
    "        criterion = nn.MSELoss()\n",
    "        optimizer = torch.optim.Adam(net.parameters(), lr=lr)\n",
    "\n",
    "        train_model(\n",
    "            net = net,\n",
    "            train_loader = train_loader,\n",
    "            valid_loader = valid_loader,\n",
    "            n_epochs = n_epochs, \n",
    "            optimizer = optimizer,\n",
    "            criterion = criterion,\n",
    "            device = device,\n",
    "            writer=writer\n",
    "        )"
   ]
  },
  {
   "attachments": {},
   "cell_type": "markdown",
   "id": "cf36ef8e",
   "metadata": {},
   "source": [
    "## Model evaluation"
   ]
  },
  {
   "cell_type": "code",
   "execution_count": null,
   "id": "f6d2c87d",
   "metadata": {},
   "outputs": [],
   "source": [
    "%tensorboard --logdir /home/raquelpanadero/Desktop/TFG/logs"
   ]
  }
 ],
 "metadata": {
  "kernelspec": {
   "display_name": "Python 3 (ipykernel)",
   "language": "python",
   "name": "python3"
  },
  "language_info": {
   "codemirror_mode": {
    "name": "ipython",
    "version": 3
   },
   "file_extension": ".py",
   "mimetype": "text/x-python",
   "name": "python",
   "nbconvert_exporter": "python",
   "pygments_lexer": "ipython3",
   "version": "3.9.16"
  }
 },
 "nbformat": 4,
 "nbformat_minor": 5
}
